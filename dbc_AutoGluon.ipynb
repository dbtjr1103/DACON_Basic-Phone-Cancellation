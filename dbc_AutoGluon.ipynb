{
 "cells": [
  {
   "cell_type": "code",
   "execution_count": null,
   "id": "49175cbe",
   "metadata": {},
   "outputs": [],
   "source": [
    "import os\n",
    "import pandas as pd\n",
    "import random\n",
    "import numpy as np\n",
    "from autogluon.tabular import TabularDataset, TabularPredictor\n",
    "import autogluon.core as ag\n",
    "\n",
    "import warnings\n",
    "warnings.filterwarnings(\"ignore\")\n",
    "\n",
    "def seed_everything(seed):\n",
    "    random.seed(seed)\n",
    "    os.environ['PYTHONHASHSEED'] = str(seed)\n",
    "    np.random.seed(seed)\n",
    "\n",
    "seed_everything(69) \n",
    "\n",
    "train_data = pd.read_csv('./train.csv')\n",
    "test_data = pd.read_csv('./test.csv')"
   ]
  },
  {
   "cell_type": "code",
   "execution_count": null,
   "id": "8b1a001d",
   "metadata": {},
   "outputs": [],
   "source": [
    "train_data = TabularDataset(train_data)\n",
    "test_data = TabularDataset(test_data)\n",
    "\n",
    "train_data.drop('ID',axis = 1, inplace = True)\n",
    "test_data.drop('ID',axis = 1, inplace = True)\n",
    "\n",
    "\n",
    "label = '전화해지여부'\n",
    "eval_metric = 'f1_macro'\n",
    "time_limit = 3600*6"
   ]
  },
  {
   "cell_type": "code",
   "execution_count": null,
   "id": "93d47f09",
   "metadata": {
    "scrolled": true
   },
   "outputs": [],
   "source": [
    "#excluded_model_types = ['CAT']\n",
    "predictor = TabularPredictor(\n",
    "    label=label, problem_type='binary', eval_metric=eval_metric\n",
    ").fit(train_data, \n",
    "      presets='best_quality', \n",
    "      num_stack_levels=3,\n",
    "      #excluded_model_types = excluded_model_types,\n",
    "      time_limit=time_limit, num_gpus=1)"
   ]
  },
  {
   "cell_type": "code",
   "execution_count": 6,
   "id": "f40ad1cf",
   "metadata": {},
   "outputs": [
    {
     "name": "stdout",
     "output_type": "stream",
     "text": [
      "                      model  score_val  pred_time_val      fit_time  \\\n",
      "0       WeightedEnsemble_L5   0.879520      70.110687  18687.059829   \n",
      "1       WeightedEnsemble_L4   0.879049      55.920799  11078.315858   \n",
      "2    NeuralNetFastAI_BAG_L3   0.878717      55.345263  10912.223183   \n",
      "3    NeuralNetFastAI_BAG_L4   0.878160      66.741636  17575.823117   \n",
      "4     NeuralNetTorch_BAG_L4   0.876145      66.087039  18053.954360   \n",
      "5       WeightedEnsemble_L3   0.875950      49.149645   5316.622108   \n",
      "6            XGBoost_BAG_L3   0.874981      53.040211  10149.001335   \n",
      "7      LightGBMLarge_BAG_L2   0.874959      44.957846   5084.666288   \n",
      "8           CatBoost_BAG_L3   0.874506      52.676873  13516.771563   \n",
      "9     ExtraTreesEntr_BAG_L3   0.874433      53.215357   9995.237875   \n",
      "10          CatBoost_BAG_L4   0.874216      64.871957  18480.201667   \n",
      "11        LightGBMXT_BAG_L4   0.874034      65.150200  17020.806683   \n",
      "12           XGBoost_BAG_L4   0.874033      65.128175  17063.605708   \n",
      "13    ExtraTreesEntr_BAG_L4   0.874031      65.474490  16959.261753   \n",
      "14    ExtraTreesGini_BAG_L3   0.873922      53.221363   9995.439061   \n",
      "15  RandomForestGini_BAG_L3   0.873668      53.170316   9996.379912   \n",
      "16  RandomForestEntr_BAG_L3   0.873521      53.133283   9996.512033   \n",
      "17          LightGBM_BAG_L3   0.873179      53.401540  10112.389341   \n",
      "18     LightGBMLarge_BAG_L3   0.872965      54.496517  10490.021566   \n",
      "19    ExtraTreesGini_BAG_L4   0.872718      65.496508  16959.291781   \n",
      "20    NeuralNetTorch_BAG_L3   0.872577      54.405429  11617.437077   \n",
      "21  RandomForestGini_BAG_L4   0.872503      65.418439  16960.409796   \n",
      "22        LightGBMXT_BAG_L3   0.871901      53.840929  10124.057950   \n",
      "23  RandomForestEntr_BAG_L4   0.871445      65.391415  16960.575005   \n",
      "24          LightGBM_BAG_L4   0.871431      65.248291  17032.441260   \n",
      "25     LightGBMLarge_BAG_L4   0.871415      65.620625  17244.127652   \n",
      "26          CatBoost_BAG_L2   0.871174      43.920915   8636.007668   \n",
      "27          LightGBM_BAG_L2   0.871146      44.784691   4945.787067   \n",
      "28           XGBoost_BAG_L2   0.870446      44.219178   4938.923466   \n",
      "29        LightGBMXT_BAG_L2   0.867443      45.659484   4996.481139   \n",
      "30  RandomForestGini_BAG_L2   0.867247      44.562488   4865.701283   \n",
      "31  RandomForestEntr_BAG_L2   0.866410      44.528456   4865.748325   \n",
      "32    ExtraTreesGini_BAG_L2   0.858547      44.649567   4864.111838   \n",
      "33    ExtraTreesEntr_BAG_L2   0.857042      44.601524   4864.012749   \n",
      "34   NeuralNetFastAI_BAG_L2   0.851906      44.698606   5144.262849   \n",
      "35    NeuralNetTorch_BAG_L2   0.848589      44.433370   5422.995618   \n",
      "36        LightGBMXT_BAG_L1   0.795934      29.537843    383.831050   \n",
      "37      WeightedEnsemble_L2   0.795934      29.590881    397.738700   \n",
      "38    KNeighborsDist_BAG_L1   0.789090       0.642584      0.171155   \n",
      "39          LightGBM_BAG_L1   0.780834       2.608370    208.244264   \n",
      "40           XGBoost_BAG_L1   0.779559       0.539489    145.953650   \n",
      "41     LightGBMLarge_BAG_L1   0.778168       6.323747    538.213493   \n",
      "42    ExtraTreesEntr_BAG_L1   0.761757       0.812739      0.648589   \n",
      "43    ExtraTreesGini_BAG_L1   0.760038       0.820745      0.656596   \n",
      "44  RandomForestEntr_BAG_L1   0.746734       0.726660      1.515378   \n",
      "45  RandomForestGini_BAG_L1   0.746190       0.756688      1.295973   \n",
      "46    NeuralNetTorch_BAG_L1   0.730394       0.105093    815.043165   \n",
      "47    KNeighborsUnif_BAG_L1   0.620563       0.667607      0.187226   \n",
      "48          CatBoost_BAG_L1   0.602075       0.024021   2679.918646   \n",
      "49   NeuralNetFastAI_BAG_L1   0.586298       0.284255     87.723006   \n",
      "\n"
     ]
    }
   ],
   "source": [
    "print(predictor.leaderboard(silent = True)) "
   ]
  },
  {
   "cell_type": "code",
   "execution_count": null,
   "id": "29d98917",
   "metadata": {},
   "outputs": [],
   "source": [
    "predictor.feature_importance(train_data) #original"
   ]
  },
  {
   "cell_type": "code",
   "execution_count": null,
   "id": "60f6a523",
   "metadata": {},
   "outputs": [],
   "source": [
    "model_to_use = predictor.get_model_best()\n",
    "model_pred = predictor.predict(test_data, model=model_to_use)\n",
    "\n",
    "submission = pd.read_csv('./sample_submission.csv')\n",
    "\n",
    "submission[\"전화해지여부\"] = model_pred\n",
    "submission.to_csv('./Gluon_submission.csv', index=False, encoding=\"utf-8\")"
   ]
  }
 ],
 "metadata": {
  "kernelspec": {
   "display_name": "Python 3 (ipykernel)",
   "language": "python",
   "name": "python3"
  },
  "language_info": {
   "codemirror_mode": {
    "name": "ipython",
    "version": 3
   },
   "file_extension": ".py",
   "mimetype": "text/x-python",
   "name": "python",
   "nbconvert_exporter": "python",
   "pygments_lexer": "ipython3",
   "version": "3.8.15"
  }
 },
 "nbformat": 4,
 "nbformat_minor": 5
}
